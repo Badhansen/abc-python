{
 "cells": [
  {
   "cell_type": "markdown",
   "id": "d0772dfa",
   "metadata": {},
   "source": [
    "## Data Structures"
   ]
  },
  {
   "cell_type": "code",
   "execution_count": 1,
   "id": "dea19050",
   "metadata": {},
   "outputs": [],
   "source": [
    "# Creating a list\n",
    "l = [1, 2, 3, 4, 5]"
   ]
  },
  {
   "cell_type": "code",
   "execution_count": 8,
   "id": "abca3155",
   "metadata": {},
   "outputs": [],
   "source": [
    "l.index(1) # returns index\n",
    "l.append(1) # appends 1\n",
    "l.insert(0,10) # inserts 10 at 0th index\n",
    "l.remove(1) # removes all instances of 3\n",
    "c = l.copy() # returns copy of the list\n",
    "#print(c)\n",
    "l.count(1) # returns no.of times '1' is present in the list\n",
    "l.extend([10, 11]) # ...\n",
    "l.pop() # pops last element [which element to pop can also be given as optional argument]\n",
    "l.reverse() # reverses original list (nums in this case)\n",
    "l.sort() # sorts list [does NOT return sorted list]\n",
    "#Python's default sort uses Tim Sort, which is a combination of both merge sort and insertion sort."
   ]
  },
  {
   "cell_type": "code",
   "execution_count": null,
   "id": "41a2410c",
   "metadata": {},
   "outputs": [],
   "source": []
  }
 ],
 "metadata": {
  "kernelspec": {
   "display_name": "Python 3 (ipykernel)",
   "language": "python",
   "name": "python3"
  },
  "language_info": {
   "codemirror_mode": {
    "name": "ipython",
    "version": 3
   },
   "file_extension": ".py",
   "mimetype": "text/x-python",
   "name": "python",
   "nbconvert_exporter": "python",
   "pygments_lexer": "ipython3",
   "version": "3.10.9"
  }
 },
 "nbformat": 4,
 "nbformat_minor": 5
}
